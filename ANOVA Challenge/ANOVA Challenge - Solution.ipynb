{
 "cells": [
  {
   "cell_type": "markdown",
   "metadata": {},
   "source": [
    "A company has been testing out different ad configurations on YouTube videos. They have tried modifying the position of the ad within the video, the length of the ad, the location of the call-to-action button linking to their website, the color of the ad background, the background music, and the category of video the ad is placed on.\n",
    "\n",
    "They have compiled a collection of various experiments with the corresponding number of conversions, or visits to their website resulting from each ad, in the 'youtube_ad_data.csv' file.\n",
    "\n",
    "\n",
    "For the following questions, write out the appropriate hypothesis test, calculate the test statistic and signficance, report the power and effect size of the test, run an ad-hoc test if applicable, and write a summary of the results.\n",
    "\n",
    "- 1) Do ads placed on gaming videos lead to higher conversion on average?\n",
    "\n",
    "- 2) Is the conversion rate different for ads that are very short versus ads that are long?\n",
    "\n",
    "- 3) Does it matter what background music is included in an ad?\n",
    "\n",
    "- 4) Is the conversion rate for ads placed at the beginning, middle, or end of a video different depending on where the call-to-action button is place?"
   ]
  },
  {
   "cell_type": "markdown",
   "metadata": {},
   "source": [
    "## Import the librabies and the dataframe needed to complete the problem and Cohen's D formula for effect size, if needed."
   ]
  },
  {
   "cell_type": "code",
   "execution_count": 17,
   "metadata": {},
   "outputs": [],
   "source": [
    "import pandas as pd\n",
    "from scipy import stats\n",
    "import scipy.stats as stats\n",
    "import numpy as np\n",
    "from numpy import mean, sqrt, std\n",
    "from statsmodels.stats.power import tt_ind_solve_power\n",
    "import statsmodels.api as sm\n",
    "from statsmodels.formula.api import ols\n",
    "from statsmodels.stats.multicomp import pairwise_tukeyhsd\n",
    "import matplotlib.pyplot as plt"
   ]
  },
  {
   "cell_type": "code",
   "execution_count": 2,
   "metadata": {},
   "outputs": [],
   "source": [
    "def cohens_d_one_samp(x, mu0):\n",
    "    return (x.mean() - mu0) / x.std()\n",
    "def cohens_d_two_samp(x, y):\n",
    "    nx = len(x)\n",
    "    ny = len(y)\n",
    "    dof = nx+ny - 2\n",
    "    return (np.abs(mean(x)-mean(y))/sqrt(((nx-1)*std(x,ddof=1)**2+(ny-1)*std(y,ddof=1)**2)/dof))"
   ]
  },
  {
   "cell_type": "code",
   "execution_count": 3,
   "metadata": {},
   "outputs": [
    {
     "data": {
      "text/html": [
       "<div>\n",
       "<style scoped>\n",
       "    .dataframe tbody tr th:only-of-type {\n",
       "        vertical-align: middle;\n",
       "    }\n",
       "\n",
       "    .dataframe tbody tr th {\n",
       "        vertical-align: top;\n",
       "    }\n",
       "\n",
       "    .dataframe thead th {\n",
       "        text-align: right;\n",
       "    }\n",
       "</style>\n",
       "<table border=\"1\" class=\"dataframe\">\n",
       "  <thead>\n",
       "    <tr style=\"text-align: right;\">\n",
       "      <th></th>\n",
       "      <th>Conversion</th>\n",
       "      <th>Video_Location</th>\n",
       "      <th>Duration</th>\n",
       "      <th>Button_Location</th>\n",
       "      <th>Background_Color</th>\n",
       "      <th>Video_Type</th>\n",
       "      <th>Background_Music</th>\n",
       "    </tr>\n",
       "  </thead>\n",
       "  <tbody>\n",
       "    <tr>\n",
       "      <th>0</th>\n",
       "      <td>183</td>\n",
       "      <td>beginning</td>\n",
       "      <td>short</td>\n",
       "      <td>lower-right</td>\n",
       "      <td>black</td>\n",
       "      <td>beauty</td>\n",
       "      <td>none</td>\n",
       "    </tr>\n",
       "    <tr>\n",
       "      <th>1</th>\n",
       "      <td>67</td>\n",
       "      <td>end</td>\n",
       "      <td>long</td>\n",
       "      <td>lower-left</td>\n",
       "      <td>green</td>\n",
       "      <td>beauty</td>\n",
       "      <td>classical</td>\n",
       "    </tr>\n",
       "    <tr>\n",
       "      <th>2</th>\n",
       "      <td>154</td>\n",
       "      <td>beginning</td>\n",
       "      <td>medium</td>\n",
       "      <td>middle</td>\n",
       "      <td>red</td>\n",
       "      <td>news</td>\n",
       "      <td>none</td>\n",
       "    </tr>\n",
       "    <tr>\n",
       "      <th>3</th>\n",
       "      <td>168</td>\n",
       "      <td>middle</td>\n",
       "      <td>short</td>\n",
       "      <td>upper-left</td>\n",
       "      <td>black</td>\n",
       "      <td>gaming</td>\n",
       "      <td>none</td>\n",
       "    </tr>\n",
       "    <tr>\n",
       "      <th>4</th>\n",
       "      <td>188</td>\n",
       "      <td>middle</td>\n",
       "      <td>short</td>\n",
       "      <td>upper-left</td>\n",
       "      <td>orange</td>\n",
       "      <td>beauty</td>\n",
       "      <td>hip hop</td>\n",
       "    </tr>\n",
       "  </tbody>\n",
       "</table>\n",
       "</div>"
      ],
      "text/plain": [
       "   Conversion Video_Location Duration Button_Location Background_Color  \\\n",
       "0         183      beginning    short     lower-right            black   \n",
       "1          67            end     long      lower-left            green   \n",
       "2         154      beginning   medium          middle              red   \n",
       "3         168         middle    short      upper-left            black   \n",
       "4         188         middle    short      upper-left           orange   \n",
       "\n",
       "  Video_Type Background_Music  \n",
       "0     beauty             none  \n",
       "1     beauty        classical  \n",
       "2       news             none  \n",
       "3     gaming             none  \n",
       "4     beauty          hip hop  "
      ]
     },
     "execution_count": 3,
     "metadata": {},
     "output_type": "execute_result"
    }
   ],
   "source": [
    "youtube_data = pd.read_csv('youtube_ad_data.csv')\n",
    "youtube_data.head()"
   ]
  },
  {
   "cell_type": "markdown",
   "metadata": {},
   "source": [
    "## Question 1: \n",
    "___\n",
    "Do ads placed on gaming videos lead to higher conversion on average?"
   ]
  },
  {
   "cell_type": "markdown",
   "metadata": {},
   "source": [
    "### Hypothesis:\n",
    "- H0: mu_gaming = mu_conversion (they are the same - no difference)\n",
    "- Ha: mu_gaming != mu_conversion (they are not equal - there is a difference)\n",
    "\n",
    "**Note: when comparing the youtube_data, the gaming has to be excluded from the data, in order to compare them accurately.**"
   ]
  },
  {
   "cell_type": "code",
   "execution_count": 4,
   "metadata": {},
   "outputs": [],
   "source": [
    "df_gaming = youtube_data[youtube_data['Video_Type']=='gaming']\n",
    "df_youtube = youtube_data[youtube_data['Video_Type']!='gaming']"
   ]
  },
  {
   "cell_type": "code",
   "execution_count": 5,
   "metadata": {},
   "outputs": [
    {
     "data": {
      "text/plain": [
       "(-0.09400640152474109, 0.9252960042421554)"
      ]
     },
     "execution_count": 5,
     "metadata": {},
     "output_type": "execute_result"
    }
   ],
   "source": [
    "t, p = stats.ttest_ind(df_youtube['Conversion'], df_gaming['Conversion'])\n",
    "t, p"
   ]
  },
  {
   "cell_type": "markdown",
   "metadata": {},
   "source": [
    "### Conclusion\n",
    "___\n",
    "The p-value is greater than 0.05 in this case, so we fail to reject the null.  Therefore, placing ads on gaming videos yields no significant differences on conversion."
   ]
  },
  {
   "cell_type": "markdown",
   "metadata": {},
   "source": [
    "## Question 2:\n",
    "___\n",
    "Is the conversion rate different for ads that are very short versus ads that long?"
   ]
  },
  {
   "cell_type": "markdown",
   "metadata": {},
   "source": [
    "### Hypothesis:\n",
    "- H0: mu_very_short = mu_long (they are the same -- no difference)\n",
    "- Ha: mu_very_short != mu_long (they are not equal -- there is a difference)"
   ]
  },
  {
   "cell_type": "code",
   "execution_count": 6,
   "metadata": {},
   "outputs": [],
   "source": [
    "df_very_short = youtube_data[youtube_data['Duration']=='very short']\n",
    "df_long = youtube_data[youtube_data['Duration']=='long']"
   ]
  },
  {
   "cell_type": "code",
   "execution_count": 7,
   "metadata": {},
   "outputs": [
    {
     "data": {
      "text/plain": [
       "(1.0440666138914314, 0.3013783087267185)"
      ]
     },
     "execution_count": 7,
     "metadata": {},
     "output_type": "execute_result"
    }
   ],
   "source": [
    "t, p = stats.ttest_ind(df_very_short['Conversion'], df_long['Conversion'])\n",
    "t, p"
   ]
  },
  {
   "cell_type": "markdown",
   "metadata": {},
   "source": [
    "### Conclusion\n",
    "___\n",
    "The p-value is greater than 0.05 in this case, so we fail to reject the null.  The data does not support that the conversion rates are different."
   ]
  },
  {
   "cell_type": "markdown",
   "metadata": {},
   "source": [
    "## Question 3:\n",
    "___\n",
    "Does it matter what background music is included in an ad?"
   ]
  },
  {
   "cell_type": "markdown",
   "metadata": {},
   "source": [
    "### Hypothesis:\n",
    "- H0: mu_classical = mu_dance = mu_hip_hop\n",
    "- Ha: at least one is different"
   ]
  },
  {
   "cell_type": "code",
   "execution_count": 4,
   "metadata": {
    "scrolled": true
   },
   "outputs": [
    {
     "data": {
      "text/html": [
       "<div>\n",
       "<style scoped>\n",
       "    .dataframe tbody tr th:only-of-type {\n",
       "        vertical-align: middle;\n",
       "    }\n",
       "\n",
       "    .dataframe tbody tr th {\n",
       "        vertical-align: top;\n",
       "    }\n",
       "\n",
       "    .dataframe thead th {\n",
       "        text-align: right;\n",
       "    }\n",
       "</style>\n",
       "<table border=\"1\" class=\"dataframe\">\n",
       "  <thead>\n",
       "    <tr style=\"text-align: right;\">\n",
       "      <th></th>\n",
       "      <th>df</th>\n",
       "      <th>sum_sq</th>\n",
       "      <th>mean_sq</th>\n",
       "      <th>F</th>\n",
       "      <th>PR(&gt;F)</th>\n",
       "    </tr>\n",
       "  </thead>\n",
       "  <tbody>\n",
       "    <tr>\n",
       "      <th>Background_Music</th>\n",
       "      <td>3.0</td>\n",
       "      <td>83032.251675</td>\n",
       "      <td>27677.417225</td>\n",
       "      <td>6.132895</td>\n",
       "      <td>0.000734</td>\n",
       "    </tr>\n",
       "    <tr>\n",
       "      <th>Residual</th>\n",
       "      <td>96.0</td>\n",
       "      <td>433242.738325</td>\n",
       "      <td>4512.945191</td>\n",
       "      <td>NaN</td>\n",
       "      <td>NaN</td>\n",
       "    </tr>\n",
       "  </tbody>\n",
       "</table>\n",
       "</div>"
      ],
      "text/plain": [
       "                    df         sum_sq       mean_sq         F    PR(>F)\n",
       "Background_Music   3.0   83032.251675  27677.417225  6.132895  0.000734\n",
       "Residual          96.0  433242.738325   4512.945191       NaN       NaN"
      ]
     },
     "execution_count": 4,
     "metadata": {},
     "output_type": "execute_result"
    }
   ],
   "source": [
    "sm.stats.anova_lm(ols('Conversion ~ Background_Music', data=youtube_data).fit())"
   ]
  },
  {
   "cell_type": "code",
   "execution_count": null,
   "metadata": {},
   "outputs": [],
   "source": [
    "conversion_samp = youtube_data[]"
   ]
  },
  {
   "cell_type": "code",
   "execution_count": 5,
   "metadata": {},
   "outputs": [
    {
     "data": {
      "text/html": [
       "<table class=\"simpletable\">\n",
       "<caption>Multiple Comparison of Means - Tukey HSD,FWER=0.05</caption>\n",
       "<tr>\n",
       "   <th>group1</th>   <th>group2</th>  <th>meandiff</th>   <th>lower</th>    <th>upper</th>  <th>reject</th>\n",
       "</tr>\n",
       "<tr>\n",
       "  <td>classical</td>  <td>dance</td>   <td>77.8325</td>  <td>27.9903</td> <td>127.6748</td>  <td>True</td> \n",
       "</tr>\n",
       "<tr>\n",
       "  <td>classical</td> <td>hip hop</td>  <td>59.063</td>   <td>7.2414</td>  <td>110.8845</td>  <td>True</td> \n",
       "</tr>\n",
       "<tr>\n",
       "  <td>classical</td>  <td>none</td>    <td>44.1963</td>  <td>-2.4002</td>  <td>90.7928</td>  <td>False</td>\n",
       "</tr>\n",
       "<tr>\n",
       "    <td>dance</td>   <td>hip hop</td> <td>-18.7696</td> <td>-72.4744</td>  <td>34.9353</td>  <td>False</td>\n",
       "</tr>\n",
       "<tr>\n",
       "    <td>dance</td>    <td>none</td>   <td>-33.6362</td> <td>-82.3186</td>  <td>15.0461</td>  <td>False</td>\n",
       "</tr>\n",
       "<tr>\n",
       "   <td>hip hop</td>   <td>none</td>   <td>-14.8667</td> <td>-65.5736</td>  <td>35.8403</td>  <td>False</td>\n",
       "</tr>\n",
       "</table>"
      ],
      "text/plain": [
       "<class 'statsmodels.iolib.table.SimpleTable'>"
      ]
     },
     "execution_count": 5,
     "metadata": {},
     "output_type": "execute_result"
    }
   ],
   "source": [
    "tukey_results = pairwise_tukeyhsd(youtube_data['Conversion'], youtube_data['Background_Music'])\n",
    "tukey_results.summary()"
   ]
  },
  {
   "cell_type": "code",
   "execution_count": 8,
   "metadata": {},
   "outputs": [
    {
     "name": "stderr",
     "output_type": "stream",
     "text": [
      "/Volumes/Data/Users/jucabrera/anaconda3/envs/learn-env/lib/python3.6/site-packages/matplotlib/figure.py:445: UserWarning: Matplotlib is currently using module://ipykernel.pylab.backend_inline, which is a non-GUI backend, so cannot show the figure.\n",
      "  % get_backend())\n"
     ]
    },
    {
     "data": {
      "image/png": "[encoded data removed]",
      "text/plain": [
       "<Figure size 720x432 with 1 Axes>"
      ]
     },
     "metadata": {
      "needs_background": "light"
     },
     "output_type": "display_data"
    }
   ],
   "source": [
    "tukey_results.plot_simultaneous().show()"
   ]
  },
  {
   "cell_type": "markdown",
   "metadata": {},
   "source": [
    "### Conclusion:\n",
    "___\n",
    "Since we are comparing more than 2 things, we want to make sure that we use ANOVA testing to find the p-value.  Once we found the p-value, it resulted in rejecting the null hypothesis, because it showed a significant difference(lower than our alpha).  In order to find where that difference was Tukey HSD is used.  Looking at those results, it's important to note that the background music does matter.  It shows that classical music gives a lower conversion rate, so it would be best to avoid classical music in the ad."
   ]
  },
  {
   "cell_type": "markdown",
   "metadata": {},
   "source": [
    "## Question 4:\n",
    "___\n",
    "Is the conversion rate for ads placed at the beginning, middle, or end of a video different depending on where the call-to-action button is place?"
   ]
  },
  {
   "cell_type": "markdown",
   "metadata": {},
   "source": [
    "### Hypothesis:\n",
    "- H0: mu_beginning = mu_middle = mu_end \n",
    "- Ha: at least one is different"
   ]
  },
  {
   "cell_type": "code",
   "execution_count": 11,
   "metadata": {},
   "outputs": [
    {
     "data": {
      "text/html": [
       "<div>\n",
       "<style scoped>\n",
       "    .dataframe tbody tr th:only-of-type {\n",
       "        vertical-align: middle;\n",
       "    }\n",
       "\n",
       "    .dataframe tbody tr th {\n",
       "        vertical-align: top;\n",
       "    }\n",
       "\n",
       "    .dataframe thead th {\n",
       "        text-align: right;\n",
       "    }\n",
       "</style>\n",
       "<table border=\"1\" class=\"dataframe\">\n",
       "  <thead>\n",
       "    <tr style=\"text-align: right;\">\n",
       "      <th></th>\n",
       "      <th>df</th>\n",
       "      <th>sum_sq</th>\n",
       "      <th>mean_sq</th>\n",
       "      <th>F</th>\n",
       "      <th>PR(&gt;F)</th>\n",
       "    </tr>\n",
       "  </thead>\n",
       "  <tbody>\n",
       "    <tr>\n",
       "      <th>Button_Location</th>\n",
       "      <td>4.0</td>\n",
       "      <td>96933.530828</td>\n",
       "      <td>24233.382707</td>\n",
       "      <td>7.790719</td>\n",
       "      <td>2.130166e-05</td>\n",
       "    </tr>\n",
       "    <tr>\n",
       "      <th>Video_Location</th>\n",
       "      <td>2.0</td>\n",
       "      <td>102786.580150</td>\n",
       "      <td>51393.290075</td>\n",
       "      <td>16.522277</td>\n",
       "      <td>8.676633e-07</td>\n",
       "    </tr>\n",
       "    <tr>\n",
       "      <th>Button_Location:Video_Location</th>\n",
       "      <td>8.0</td>\n",
       "      <td>52158.534505</td>\n",
       "      <td>6519.816813</td>\n",
       "      <td>2.096037</td>\n",
       "      <td>4.486467e-02</td>\n",
       "    </tr>\n",
       "    <tr>\n",
       "      <th>Residual</th>\n",
       "      <td>85.0</td>\n",
       "      <td>264396.344517</td>\n",
       "      <td>3110.545230</td>\n",
       "      <td>NaN</td>\n",
       "      <td>NaN</td>\n",
       "    </tr>\n",
       "  </tbody>\n",
       "</table>\n",
       "</div>"
      ],
      "text/plain": [
       "                                  df         sum_sq       mean_sq          F  \\\n",
       "Button_Location                  4.0   96933.530828  24233.382707   7.790719   \n",
       "Video_Location                   2.0  102786.580150  51393.290075  16.522277   \n",
       "Button_Location:Video_Location   8.0   52158.534505   6519.816813   2.096037   \n",
       "Residual                        85.0  264396.344517   3110.545230        NaN   \n",
       "\n",
       "                                      PR(>F)  \n",
       "Button_Location                 2.130166e-05  \n",
       "Video_Location                  8.676633e-07  \n",
       "Button_Location:Video_Location  4.486467e-02  \n",
       "Residual                                 NaN  "
      ]
     },
     "execution_count": 11,
     "metadata": {},
     "output_type": "execute_result"
    }
   ],
   "source": [
    "sm.stats.anova_lm(ols('Conversion ~ Button_Location*Video_Location', data=youtube_data).fit())"
   ]
  },
  {
   "cell_type": "code",
   "execution_count": 12,
   "metadata": {},
   "outputs": [
    {
     "data": {
      "text/html": [
       "<table class=\"simpletable\">\n",
       "<caption>Multiple Comparison of Means - Tukey HSD,FWER=0.05</caption>\n",
       "<tr>\n",
       "         <th>group1</th>               <th>group2</th>        <th>meandiff</th>    <th>lower</th>     <th>upper</th>  <th>reject</th>\n",
       "</tr>\n",
       "<tr>\n",
       "   <td>lower-leftbeginning</td>     <td>lower-leftend</td>    <td>-22.6667</td>  <td>-123.2744</td>  <td>77.9411</td>  <td>False</td>\n",
       "</tr>\n",
       "<tr>\n",
       "   <td>lower-leftbeginning</td>   <td>lower-leftmiddle</td>    <td>9.3889</td>   <td>-80.1275</td>   <td>98.9053</td>  <td>False</td>\n",
       "</tr>\n",
       "<tr>\n",
       "   <td>lower-leftbeginning</td> <td>lower-rightbeginning</td>   <td>82.7</td>    <td>-24.0106</td>  <td>189.4106</td>  <td>False</td>\n",
       "</tr>\n",
       "<tr>\n",
       "   <td>lower-leftbeginning</td>    <td>lower-rightend</td>      <td>64.5</td>    <td>-63.7502</td>  <td>192.7502</td>  <td>False</td>\n",
       "</tr>\n",
       "<tr>\n",
       "   <td>lower-leftbeginning</td>   <td>lower-rightmiddle</td>   <td>134.25</td>    <td>18.9894</td>  <td>249.5106</td>  <td>True</td> \n",
       "</tr>\n",
       "<tr>\n",
       "   <td>lower-leftbeginning</td>    <td>middlebeginning</td>   <td>-11.3571</td>  <td>-107.3685</td>  <td>84.6542</td>  <td>False</td>\n",
       "</tr>\n",
       "<tr>\n",
       "   <td>lower-leftbeginning</td>       <td>middleend</td>        <td>-16.1</td>   <td>-103.2288</td>  <td>71.0288</td>  <td>False</td>\n",
       "</tr>\n",
       "<tr>\n",
       "   <td>lower-leftbeginning</td>     <td>middlemiddle</td>       <td>134.5</td>    <td>33.8923</td>  <td>235.1077</td>  <td>True</td> \n",
       "</tr>\n",
       "<tr>\n",
       "   <td>lower-leftbeginning</td>  <td>upper-leftbeginning</td>  <td>-1.5833</td>  <td>-85.0028</td>   <td>81.8362</td>  <td>False</td>\n",
       "</tr>\n",
       "<tr>\n",
       "   <td>lower-leftbeginning</td>     <td>upper-leftend</td>      <td>20.7</td>    <td>-86.0106</td>  <td>127.4106</td>  <td>False</td>\n",
       "</tr>\n",
       "<tr>\n",
       "   <td>lower-leftbeginning</td>   <td>upper-leftmiddle</td>    <td>68.2273</td>  <td>-16.8983</td>  <td>153.3529</td>  <td>False</td>\n",
       "</tr>\n",
       "<tr>\n",
       "   <td>lower-leftbeginning</td> <td>upper-rightbeginning</td>  <td>86.8333</td>  <td>-41.4168</td>  <td>215.0835</td>  <td>False</td>\n",
       "</tr>\n",
       "<tr>\n",
       "   <td>lower-leftbeginning</td>    <td>upper-rightend</td>      <td>22.25</td>   <td>-93.0106</td>  <td>137.5106</td>  <td>False</td>\n",
       "</tr>\n",
       "<tr>\n",
       "   <td>lower-leftbeginning</td>   <td>upper-rightmiddle</td>    <td>101.5</td>    <td>-5.2106</td>  <td>208.2106</td>  <td>False</td>\n",
       "</tr>\n",
       "<tr>\n",
       "      <td>lower-leftend</td>      <td>lower-leftmiddle</td>    <td>32.0556</td>  <td>-70.6268</td>  <td>134.7379</td>  <td>False</td>\n",
       "</tr>\n",
       "<tr>\n",
       "      <td>lower-leftend</td>    <td>lower-rightbeginning</td> <td>105.3667</td>  <td>-12.6063</td>  <td>223.3397</td>  <td>False</td>\n",
       "</tr>\n",
       "<tr>\n",
       "      <td>lower-leftend</td>       <td>lower-rightend</td>     <td>87.1667</td>  <td>-50.5961</td>  <td>224.9295</td>  <td>False</td>\n",
       "</tr>\n",
       "<tr>\n",
       "      <td>lower-leftend</td>      <td>lower-rightmiddle</td>  <td>156.9167</td>   <td>31.157</td>   <td>282.6763</td>  <td>True</td> \n",
       "</tr>\n",
       "<tr>\n",
       "      <td>lower-leftend</td>       <td>middlebeginning</td>    <td>11.3095</td>  <td>-97.0817</td>  <td>119.7007</td>  <td>False</td>\n",
       "</tr>\n",
       "<tr>\n",
       "      <td>lower-leftend</td>          <td>middleend</td>       <td>6.5667</td>   <td>-94.0411</td>  <td>107.1744</td>  <td>False</td>\n",
       "</tr>\n",
       "<tr>\n",
       "      <td>lower-leftend</td>        <td>middlemiddle</td>     <td>157.1667</td>   <td>44.6838</td>  <td>269.6495</td>  <td>True</td> \n",
       "</tr>\n",
       "<tr>\n",
       "      <td>lower-leftend</td>     <td>upper-leftbeginning</td>  <td>21.0833</td>  <td>-76.3297</td>  <td>118.4963</td>  <td>False</td>\n",
       "</tr>\n",
       "<tr>\n",
       "      <td>lower-leftend</td>        <td>upper-leftend</td>     <td>43.3667</td>  <td>-74.6063</td>  <td>161.3397</td>  <td>False</td>\n",
       "</tr>\n",
       "<tr>\n",
       "      <td>lower-leftend</td>      <td>upper-leftmiddle</td>    <td>90.8939</td>   <td>-7.984</td>   <td>189.7719</td>  <td>False</td>\n",
       "</tr>\n",
       "<tr>\n",
       "      <td>lower-leftend</td>    <td>upper-rightbeginning</td>   <td>109.5</td>   <td>-28.2628</td>  <td>247.2628</td>  <td>False</td>\n",
       "</tr>\n",
       "<tr>\n",
       "      <td>lower-leftend</td>       <td>upper-rightend</td>     <td>44.9167</td>   <td>-80.843</td>  <td>170.6763</td>  <td>False</td>\n",
       "</tr>\n",
       "<tr>\n",
       "      <td>lower-leftend</td>      <td>upper-rightmiddle</td>  <td>124.1667</td>   <td>6.1937</td>   <td>242.1397</td>  <td>True</td> \n",
       "</tr>\n",
       "<tr>\n",
       "    <td>lower-leftmiddle</td>   <td>lower-rightbeginning</td>  <td>73.3111</td>  <td>-35.3576</td>  <td>181.9799</td>  <td>False</td>\n",
       "</tr>\n",
       "<tr>\n",
       "    <td>lower-leftmiddle</td>      <td>lower-rightend</td>     <td>55.1111</td>  <td>-74.7729</td>  <td>184.9951</td>  <td>False</td>\n",
       "</tr>\n",
       "<tr>\n",
       "    <td>lower-leftmiddle</td>     <td>lower-rightmiddle</td>  <td>124.8611</td>   <td>7.7852</td>    <td>241.937</td>  <td>True</td> \n",
       "</tr>\n",
       "<tr>\n",
       "    <td>lower-leftmiddle</td>      <td>middlebeginning</td>    <td>-20.746</td>  <td>-118.9291</td>  <td>77.4371</td>  <td>False</td>\n",
       "</tr>\n",
       "<tr>\n",
       "    <td>lower-leftmiddle</td>         <td>middleend</td>      <td>-25.4889</td>  <td>-115.0053</td>  <td>64.0275</td>  <td>False</td>\n",
       "</tr>\n",
       "<tr>\n",
       "    <td>lower-leftmiddle</td>       <td>middlemiddle</td>     <td>125.1111</td>   <td>22.4288</td>  <td>227.7934</td>  <td>True</td> \n",
       "</tr>\n",
       "<tr>\n",
       "    <td>lower-leftmiddle</td>    <td>upper-leftbeginning</td> <td>-10.9722</td>  <td>-96.8824</td>   <td>74.938</td>   <td>False</td>\n",
       "</tr>\n",
       "<tr>\n",
       "    <td>lower-leftmiddle</td>       <td>upper-leftend</td>     <td>11.3111</td>  <td>-97.3576</td>  <td>119.9799</td>  <td>False</td>\n",
       "</tr>\n",
       "<tr>\n",
       "    <td>lower-leftmiddle</td>     <td>upper-leftmiddle</td>    <td>58.8384</td>  <td>-28.7294</td>  <td>146.4062</td>  <td>False</td>\n",
       "</tr>\n",
       "<tr>\n",
       "    <td>lower-leftmiddle</td>   <td>upper-rightbeginning</td>  <td>77.4444</td>  <td>-52.4396</td>  <td>207.3285</td>  <td>False</td>\n",
       "</tr>\n",
       "<tr>\n",
       "    <td>lower-leftmiddle</td>      <td>upper-rightend</td>     <td>12.8611</td>  <td>-104.2148</td>  <td>129.937</td>  <td>False</td>\n",
       "</tr>\n",
       "<tr>\n",
       "    <td>lower-leftmiddle</td>     <td>upper-rightmiddle</td>   <td>92.1111</td>  <td>-16.5576</td>  <td>200.7799</td>  <td>False</td>\n",
       "</tr>\n",
       "<tr>\n",
       "  <td>lower-rightbeginning</td>    <td>lower-rightend</td>      <td>-18.2</td>   <td>-160.4808</td> <td>124.0808</td>  <td>False</td>\n",
       "</tr>\n",
       "<tr>\n",
       "  <td>lower-rightbeginning</td>   <td>lower-rightmiddle</td>    <td>51.55</td>   <td>-79.1433</td>  <td>182.2433</td>  <td>False</td>\n",
       "</tr>\n",
       "<tr>\n",
       "  <td>lower-rightbeginning</td>    <td>middlebeginning</td>   <td>-94.0571</td>  <td>-208.1356</td>  <td>20.0213</td>  <td>False</td>\n",
       "</tr>\n",
       "<tr>\n",
       "  <td>lower-rightbeginning</td>       <td>middleend</td>        <td>-98.8</td>   <td>-205.5106</td>  <td>7.9106</td>   <td>False</td>\n",
       "</tr>\n",
       "<tr>\n",
       "  <td>lower-rightbeginning</td>     <td>middlemiddle</td>       <td>51.8</td>     <td>-66.173</td>   <td>169.773</td>  <td>False</td>\n",
       "</tr>\n",
       "<tr>\n",
       "  <td>lower-rightbeginning</td>  <td>upper-leftbeginning</td> <td>-84.2833</td>  <td>-187.9874</td>  <td>19.4207</td>  <td>False</td>\n",
       "</tr>\n",
       "<tr>\n",
       "  <td>lower-rightbeginning</td>     <td>upper-leftend</td>      <td>-62.0</td>   <td>-185.2188</td>  <td>61.2188</td>  <td>False</td>\n",
       "</tr>\n",
       "<tr>\n",
       "  <td>lower-rightbeginning</td>   <td>upper-leftmiddle</td>   <td>-14.4727</td>  <td>-119.5541</td>  <td>90.6086</td>  <td>False</td>\n",
       "</tr>\n",
       "<tr>\n",
       "  <td>lower-rightbeginning</td> <td>upper-rightbeginning</td>  <td>4.1333</td>   <td>-138.1475</td> <td>146.4141</td>  <td>False</td>\n",
       "</tr>\n",
       "<tr>\n",
       "  <td>lower-rightbeginning</td>    <td>upper-rightend</td>     <td>-60.45</td>   <td>-191.1433</td>  <td>70.2433</td>  <td>False</td>\n",
       "</tr>\n",
       "<tr>\n",
       "  <td>lower-rightbeginning</td>   <td>upper-rightmiddle</td>    <td>18.8</td>    <td>-104.4188</td> <td>142.0188</td>  <td>False</td>\n",
       "</tr>\n",
       "<tr>\n",
       "     <td>lower-rightend</td>      <td>lower-rightmiddle</td>    <td>69.75</td>   <td>-79.0508</td>  <td>218.5508</td>  <td>False</td>\n",
       "</tr>\n",
       "<tr>\n",
       "     <td>lower-rightend</td>       <td>middlebeginning</td>   <td>-75.8571</td>  <td>-210.2999</td>  <td>58.5856</td>  <td>False</td>\n",
       "</tr>\n",
       "<tr>\n",
       "     <td>lower-rightend</td>          <td>middleend</td>        <td>-80.6</td>   <td>-208.8502</td>  <td>47.6502</td>  <td>False</td>\n",
       "</tr>\n",
       "<tr>\n",
       "     <td>lower-rightend</td>        <td>middlemiddle</td>       <td>70.0</td>    <td>-67.7628</td>  <td>207.7628</td>  <td>False</td>\n",
       "</tr>\n",
       "<tr>\n",
       "     <td>lower-rightend</td>     <td>upper-leftbeginning</td> <td>-66.0833</td>  <td>-191.843</td>   <td>59.6763</td>  <td>False</td>\n",
       "</tr>\n",
       "<tr>\n",
       "     <td>lower-rightend</td>        <td>upper-leftend</td>      <td>-43.8</td>   <td>-186.0808</td>  <td>98.4808</td>  <td>False</td>\n",
       "</tr>\n",
       "<tr>\n",
       "     <td>lower-rightend</td>      <td>upper-leftmiddle</td>    <td>3.7273</td>   <td>-123.1705</td>  <td>130.625</td>  <td>False</td>\n",
       "</tr>\n",
       "<tr>\n",
       "     <td>lower-rightend</td>    <td>upper-rightbeginning</td>  <td>22.3333</td>  <td>-136.7414</td> <td>181.4081</td>  <td>False</td>\n",
       "</tr>\n",
       "<tr>\n",
       "     <td>lower-rightend</td>       <td>upper-rightend</td>     <td>-42.25</td>   <td>-191.0508</td> <td>106.5508</td>  <td>False</td>\n",
       "</tr>\n",
       "<tr>\n",
       "     <td>lower-rightend</td>      <td>upper-rightmiddle</td>    <td>37.0</td>    <td>-105.2808</td> <td>179.2808</td>  <td>False</td>\n",
       "</tr>\n",
       "<tr>\n",
       "    <td>lower-rightmiddle</td>     <td>middlebeginning</td>   <td>-145.6071</td> <td>-267.7208</td> <td>-23.4935</td>  <td>True</td> \n",
       "</tr>\n",
       "<tr>\n",
       "    <td>lower-rightmiddle</td>        <td>middleend</td>       <td>-150.35</td>  <td>-265.6106</td> <td>-35.0894</td>  <td>True</td> \n",
       "</tr>\n",
       "<tr>\n",
       "    <td>lower-rightmiddle</td>      <td>middlemiddle</td>       <td>0.25</td>    <td>-125.5097</td> <td>126.0097</td>  <td>False</td>\n",
       "</tr>\n",
       "<tr>\n",
       "    <td>lower-rightmiddle</td>   <td>upper-leftbeginning</td> <td>-135.8333</td> <td>-248.3162</td> <td>-23.3505</td>  <td>True</td> \n",
       "</tr>\n",
       "<tr>\n",
       "    <td>lower-rightmiddle</td>      <td>upper-leftend</td>     <td>-113.55</td>  <td>-244.2433</td>  <td>17.1433</td>  <td>False</td>\n",
       "</tr>\n",
       "<tr>\n",
       "    <td>lower-rightmiddle</td>    <td>upper-leftmiddle</td>   <td>-66.0227</td>  <td>-179.7766</td>  <td>47.7312</td>  <td>False</td>\n",
       "</tr>\n",
       "<tr>\n",
       "    <td>lower-rightmiddle</td>  <td>upper-rightbeginning</td> <td>-47.4167</td>  <td>-196.2175</td> <td>101.3842</td>  <td>False</td>\n",
       "</tr>\n",
       "<tr>\n",
       "    <td>lower-rightmiddle</td>     <td>upper-rightend</td>     <td>-112.0</td>   <td>-249.7628</td>  <td>25.7628</td>  <td>False</td>\n",
       "</tr>\n",
       "<tr>\n",
       "    <td>lower-rightmiddle</td>    <td>upper-rightmiddle</td>   <td>-32.75</td>   <td>-163.4433</td>  <td>97.9433</td>  <td>False</td>\n",
       "</tr>\n",
       "<tr>\n",
       "     <td>middlebeginning</td>         <td>middleend</td>       <td>-4.7429</td>  <td>-100.7542</td>  <td>91.2685</td>  <td>False</td>\n",
       "</tr>\n",
       "<tr>\n",
       "     <td>middlebeginning</td>       <td>middlemiddle</td>     <td>145.8571</td>   <td>37.466</td>   <td>254.2483</td>  <td>True</td> \n",
       "</tr>\n",
       "<tr>\n",
       "     <td>middlebeginning</td>    <td>upper-leftbeginning</td>  <td>9.7738</td>   <td>-82.8844</td>  <td>102.4321</td>  <td>False</td>\n",
       "</tr>\n",
       "<tr>\n",
       "     <td>middlebeginning</td>       <td>upper-leftend</td>     <td>32.0571</td>  <td>-82.0213</td>  <td>146.1356</td>  <td>False</td>\n",
       "</tr>\n",
       "<tr>\n",
       "     <td>middlebeginning</td>     <td>upper-leftmiddle</td>    <td>79.5844</td>  <td>-14.6127</td>  <td>173.7816</td>  <td>False</td>\n",
       "</tr>\n",
       "<tr>\n",
       "     <td>middlebeginning</td>   <td>upper-rightbeginning</td>  <td>98.1905</td>  <td>-36.2522</td>  <td>232.6332</td>  <td>False</td>\n",
       "</tr>\n",
       "<tr>\n",
       "     <td>middlebeginning</td>      <td>upper-rightend</td>     <td>33.6071</td>  <td>-88.5065</td>  <td>155.7208</td>  <td>False</td>\n",
       "</tr>\n",
       "<tr>\n",
       "     <td>middlebeginning</td>     <td>upper-rightmiddle</td>  <td>112.8571</td>   <td>-1.2213</td>  <td>226.9356</td>  <td>False</td>\n",
       "</tr>\n",
       "<tr>\n",
       "        <td>middleend</td>          <td>middlemiddle</td>       <td>150.6</td>    <td>49.9923</td>  <td>251.2077</td>  <td>True</td> \n",
       "</tr>\n",
       "<tr>\n",
       "        <td>middleend</td>       <td>upper-leftbeginning</td>  <td>14.5167</td>  <td>-68.9028</td>   <td>97.9362</td>  <td>False</td>\n",
       "</tr>\n",
       "<tr>\n",
       "        <td>middleend</td>          <td>upper-leftend</td>      <td>36.8</td>    <td>-69.9106</td>  <td>143.5106</td>  <td>False</td>\n",
       "</tr>\n",
       "<tr>\n",
       "        <td>middleend</td>        <td>upper-leftmiddle</td>    <td>84.3273</td>   <td>-0.7983</td>  <td>169.4529</td>  <td>False</td>\n",
       "</tr>\n",
       "<tr>\n",
       "        <td>middleend</td>      <td>upper-rightbeginning</td> <td>102.9333</td>  <td>-25.3168</td>  <td>231.1835</td>  <td>False</td>\n",
       "</tr>\n",
       "<tr>\n",
       "        <td>middleend</td>         <td>upper-rightend</td>      <td>38.35</td>   <td>-76.9106</td>  <td>153.6106</td>  <td>False</td>\n",
       "</tr>\n",
       "<tr>\n",
       "        <td>middleend</td>        <td>upper-rightmiddle</td>    <td>117.6</td>    <td>10.8894</td>  <td>224.3106</td>  <td>True</td> \n",
       "</tr>\n",
       "<tr>\n",
       "      <td>middlemiddle</td>      <td>upper-leftbeginning</td> <td>-136.0833</td> <td>-233.4963</td> <td>-38.6703</td>  <td>True</td> \n",
       "</tr>\n",
       "<tr>\n",
       "      <td>middlemiddle</td>         <td>upper-leftend</td>     <td>-113.8</td>   <td>-231.773</td>    <td>4.173</td>   <td>False</td>\n",
       "</tr>\n",
       "<tr>\n",
       "      <td>middlemiddle</td>       <td>upper-leftmiddle</td>   <td>-66.2727</td>  <td>-165.1507</td>  <td>32.6052</td>  <td>False</td>\n",
       "</tr>\n",
       "<tr>\n",
       "      <td>middlemiddle</td>     <td>upper-rightbeginning</td> <td>-47.6667</td>  <td>-185.4295</td>  <td>90.0961</td>  <td>False</td>\n",
       "</tr>\n",
       "<tr>\n",
       "      <td>middlemiddle</td>        <td>upper-rightend</td>     <td>-112.25</td>  <td>-238.0097</td>  <td>13.5097</td>  <td>False</td>\n",
       "</tr>\n",
       "<tr>\n",
       "      <td>middlemiddle</td>       <td>upper-rightmiddle</td>    <td>-33.0</td>   <td>-150.973</td>   <td>84.973</td>   <td>False</td>\n",
       "</tr>\n",
       "<tr>\n",
       "   <td>upper-leftbeginning</td>     <td>upper-leftend</td>     <td>22.2833</td>  <td>-81.4207</td>  <td>125.9874</td>  <td>False</td>\n",
       "</tr>\n",
       "<tr>\n",
       "   <td>upper-leftbeginning</td>   <td>upper-leftmiddle</td>    <td>69.8106</td>  <td>-11.5144</td>  <td>151.1356</td>  <td>False</td>\n",
       "</tr>\n",
       "<tr>\n",
       "   <td>upper-leftbeginning</td> <td>upper-rightbeginning</td>  <td>88.4167</td>   <td>-37.343</td>  <td>214.1763</td>  <td>False</td>\n",
       "</tr>\n",
       "<tr>\n",
       "   <td>upper-leftbeginning</td>    <td>upper-rightend</td>     <td>23.8333</td>  <td>-88.6495</td>  <td>136.3162</td>  <td>False</td>\n",
       "</tr>\n",
       "<tr>\n",
       "   <td>upper-leftbeginning</td>   <td>upper-rightmiddle</td>  <td>103.0833</td>   <td>-0.6207</td>  <td>206.7874</td>  <td>False</td>\n",
       "</tr>\n",
       "<tr>\n",
       "      <td>upper-leftend</td>      <td>upper-leftmiddle</td>    <td>47.5273</td>  <td>-57.5541</td>  <td>152.6086</td>  <td>False</td>\n",
       "</tr>\n",
       "<tr>\n",
       "      <td>upper-leftend</td>    <td>upper-rightbeginning</td>  <td>66.1333</td>  <td>-76.1475</td>  <td>208.4141</td>  <td>False</td>\n",
       "</tr>\n",
       "<tr>\n",
       "      <td>upper-leftend</td>       <td>upper-rightend</td>      <td>1.55</td>    <td>-129.1433</td> <td>132.2433</td>  <td>False</td>\n",
       "</tr>\n",
       "<tr>\n",
       "      <td>upper-leftend</td>      <td>upper-rightmiddle</td>    <td>80.8</td>    <td>-42.4188</td>  <td>204.0188</td>  <td>False</td>\n",
       "</tr>\n",
       "<tr>\n",
       "    <td>upper-leftmiddle</td>   <td>upper-rightbeginning</td>  <td>18.6061</td>  <td>-108.2917</td> <td>145.5038</td>  <td>False</td>\n",
       "</tr>\n",
       "<tr>\n",
       "    <td>upper-leftmiddle</td>      <td>upper-rightend</td>    <td>-45.9773</td>  <td>-159.7312</td>  <td>67.7766</td>  <td>False</td>\n",
       "</tr>\n",
       "<tr>\n",
       "    <td>upper-leftmiddle</td>     <td>upper-rightmiddle</td>   <td>33.2727</td>  <td>-71.8086</td>  <td>138.3541</td>  <td>False</td>\n",
       "</tr>\n",
       "<tr>\n",
       "  <td>upper-rightbeginning</td>    <td>upper-rightend</td>    <td>-64.5833</td>  <td>-213.3842</td>  <td>84.2175</td>  <td>False</td>\n",
       "</tr>\n",
       "<tr>\n",
       "  <td>upper-rightbeginning</td>   <td>upper-rightmiddle</td>   <td>14.6667</td>  <td>-127.6141</td> <td>156.9475</td>  <td>False</td>\n",
       "</tr>\n",
       "<tr>\n",
       "     <td>upper-rightend</td>      <td>upper-rightmiddle</td>    <td>79.25</td>   <td>-51.4433</td>  <td>209.9433</td>  <td>False</td>\n",
       "</tr>\n",
       "</table>"
      ],
      "text/plain": [
       "<class 'statsmodels.iolib.table.SimpleTable'>"
      ]
     },
     "execution_count": 12,
     "metadata": {},
     "output_type": "execute_result"
    }
   ],
   "source": [
    "tukey_results1 = pairwise_tukeyhsd(youtube_data['Conversion'], youtube_data['Button_Location']+youtube_data['Video_Location'])\n",
    "tukey_results1.summary()"
   ]
  },
  {
   "cell_type": "code",
   "execution_count": 13,
   "metadata": {},
   "outputs": [
    {
     "name": "stderr",
     "output_type": "stream",
     "text": [
      "/Volumes/Data/Users/jucabrera/anaconda3/envs/learn-env/lib/python3.6/site-packages/matplotlib/figure.py:445: UserWarning: Matplotlib is currently using module://ipykernel.pylab.backend_inline, which is a non-GUI backend, so cannot show the figure.\n",
      "  % get_backend())\n"
     ]
    },
    {
     "data": {
      "image/png": "[encoded data removed]",
      "text/plain": [
       "<Figure size 720x432 with 1 Axes>"
      ]
     },
     "metadata": {
      "needs_background": "light"
     },
     "output_type": "display_data"
    }
   ],
   "source": [
    "tukey_results1.plot_simultaneous().show()"
   ]
  },
  {
   "cell_type": "code",
   "execution_count": 18,
   "metadata": {},
   "outputs": [
    {
     "data": {
      "image/png": "[encoded data removed]",
      "text/plain": [
       "<Figure size 432x288 with 1 Axes>"
      ]
     },
     "metadata": {
      "needs_background": "light"
     },
     "output_type": "display_data"
    }
   ],
   "source": [
    "from statsmodels.graphics.factorplots import interaction_plot\n",
    "interaction_plot(response=youtube_data['Conversion'], trace=youtube_data['Button_Location'], x=youtube_data['Video_Location'].astype('category').cat.codes)\n",
    "plt.xlabel('Video Location - Beginning, Middle, End')\n",
    "plt.show()"
   ]
  },
  {
   "cell_type": "markdown",
   "metadata": {},
   "source": [
    "### Conclusion:\n",
    "___\n",
    "Comparing the button location with the video location, the ANOVA test showed to have a significant difference because the p-value was less than our alpha, therefore we can reject the null hypothesis.  To find where the differences lie, I used the Tukey HSD.  Looking at the graph still showed alot of intersection between the pairs, so I used an interaction plot to further see the comparsion.\n",
    "\n",
    "Looking at the interaction plot, the x-axis is the video location where 0 is Beginning, 1 is Middle, and 2 is End.  The y-axis represents the mean of conversion.  The interaction plot shows that the lower-right button position yields the highest conversion, with the end giving a better outcome.  It also shows that the middle button as low conversion rates at the beginning and middle, but much a much higher conversion for the end.  "
   ]
  }
 ],
 "metadata": {
  "kernelspec": {
   "display_name": "learn-env",
   "language": "python",
   "name": "learn-env"
  },
  "language_info": {
   "codemirror_mode": {
    "name": "ipython",
    "version": 3
   },
   "file_extension": ".py",
   "mimetype": "text/x-python",
   "name": "python",
   "nbconvert_exporter": "python",
   "pygments_lexer": "ipython3",
   "version": "3.6.6"
  }
 },
 "nbformat": 4,
 "nbformat_minor": 2
}
